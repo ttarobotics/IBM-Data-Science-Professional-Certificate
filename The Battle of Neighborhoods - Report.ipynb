{
    "nbformat_minor": 1, 
    "cells": [
        {
            "source": "# Capstone Project - The Battle of the Neighborhoods (Week 2) : Report\n### Applied Data Science Capstone by IBM/Coursera", 
            "cell_type": "markdown", 
            "metadata": {
                "collapsed": true
            }
        }, 
        {
            "source": "## Table of contents\n* [Introduction: Business Problem](#introduction)\n* [Data](#data)\n* [Methodology](#methodology)\n* [Analysis](#analysis)\n* [Results and Discussion](#results)\n* [Conclusion](#conclusion)", 
            "cell_type": "markdown", 
            "metadata": {}
        }, 
        {
            "source": "\n## Introduction: Business Problem <a name=\"introduction\"></a>", 
            "cell_type": "markdown", 
            "metadata": {}
        }, 
        {
            "source": "In this project we will try to find an optimal location for a restaurant. Specifically, this report will be targeted to stakeholders interested in opening an **restaurant** in **Toronto**, Canada.\n\nHere we will try finding if someone wants to open a new restaurant in the city which location is best suited for it keeping in mind the competitors and which income group of people will be attracted most to it based on the **population of the neighbourhood**.\n\nSince there are lots of restaurants in Toronto, we will try to detect **locations that are not already crowded with restaurants**. We would also prefer locations **as close to city center as possible**, assuming that first two conditions are met.\n\nWe will use our data science powers to generate a few most promissing neighborhoods based on this criteria. Advantages of each area will then be clearly expressed so that best possible final location can be chosen by stakeholders.", 
            "cell_type": "markdown", 
            "metadata": {}
        }, 
        {
            "source": "## Data <a name=\"data\"></a>", 
            "cell_type": "markdown", 
            "metadata": {}
        }, 
        {
            "source": "Based on definition of our problem, factors that will influence our decission are:\n* All existing restaurants in the neighborhood (any type of restaurant)\n* Age group of people with their income\n* Distance of neighborhood from city center\n\nWe decided to use regularly spaced grid of locations, centered around city center, to define our neighborhoods.\n\nFollowing data sources will be needed to extract/generate the required information:\n* centers of candidate areas will be generated algorithmically and approximate addresses of centers of those areas will be obtained using **https://en.wikipedia.org/wiki/List_of_postal_codes_of_Canada:_M**\n* number of restaurants and their type and location in every neighborhood will be obtained using **Foursquare API**", 
            "cell_type": "markdown", 
            "metadata": {}
        }, 
        {
            "source": "## Methodology <a name=\"methodology\"></a>", 
            "cell_type": "markdown", 
            "metadata": {}
        }, 
        {
            "source": "The main moto of this project is to find best location to open a new restaurant in Toronto, Canada based on competition in different locality and their population.\n\nSo, to do this I have used 2 different data sets available as mentioned above. Those 2 data set contains Locality information of Toronto, different age group of people in the people, population.\n\nTo solve the problem I am going to use \u201cK-Means Clustering Algorithm \".\nK-means clustering is a type of unsupervised learning, which is used when you have unlabeled data (i.e., data without defined categories or groups). The goal of this algorithm is to find groups in the data, with the number of groups represented by the variable K. The algorithm works iteratively to assign each data point to one of K groups based on the features that are provided. Data points are clustered based on feature similarity. The results of the K-means clustering algorithm are:\n\nThe centroids of the K clusters, which can be used to label new data\nLabels for the training data (each data point is assigned to a single cluster)\n\nAlso, I will be utilizing different maps in-order to give a clear vision to the target audience.\n\n\nSteps we took for the analysis:\n* Collected required **data: location and type (category) of every restaurant within our lat and lng. We have also the type of resutaurants in particu;ar locality.\n\n\n* Explrored the '**restaurant density**' across different areas of Toronto - we will use **K- mean** to identify a few promising areas close to center with low number of restaurants and their type.\n\n\n* Explored the most promising areas and within those create **clusters of locations that meet some basic requirements** established in discussion with stakeholders: we will take into consideration locations with **less restaurants in radius of 500 meters**, We will present map of all such locations but also create clusters (using **k-means clustering**) of those locations to xplore neighborhood.", 
            "cell_type": "markdown", 
            "metadata": {}
        }, 
        {
            "source": "## Analysis <a name=\"analysis\"></a>", 
            "cell_type": "markdown", 
            "metadata": {}
        }, 
        {
            "source": "#### Data identifiaction, capturing and cleaning.\n      \nSearch & Identify the relavant data source and capture it, here we are using wikipedia to get data about Toronto, Canada. Then we remove all the redundant value(data cleaning). Then we combine neighborhood similar Bronx. Now the data is clean and ready to use.", 
            "cell_type": "markdown", 
            "metadata": {}
        }, 
        {
            "source": "#### Combining different data source and sorting neighborhood based on Longitude and latitude\n\nNow, we will combine neighborhood dataset with postal address and dataset with Latitude & Longitude and save them it separate data frame.The resultant data frame with contain details aabout Postal code, Brough, Neighborhood, Latitude & Longitude.Then visualize it using folium map.", 
            "cell_type": "markdown", 
            "metadata": {}
        }, 
        {
            "source": "#### Explore the Toronto's neighborhoods\n\nFirstly, we explored all the neighborhoods in the city of Toronto, using the Latitude & Longitude data, using Foresquare API to get the Restaurant venues available in Toronto.Explore the unique categories in the neighborhood.Filter the Venues details for all possible \u2018Restaurants\u2019. Find each neighborhood along with the top most common venues.Identify the top 10 venues for each neighborhood.", 
            "cell_type": "markdown", 
            "metadata": {}
        }, 
        {
            "source": "#### Clustering\n\nWith an assumption of 5 clusters, use K-Cluster algorithm to come up with 5 different clusters in Toronto with similar set of Venues.Explore each cluster and determine the discriminating venue categories that distinguish each cluster. Identify the clusters & Boroughs/Neighborhoods with Maximum number restaurants and their types.", 
            "cell_type": "markdown", 
            "metadata": {}
        }, 
        {
            "source": "## Results and Discussion <a name=\"results\"></a>", 
            "cell_type": "markdown", 
            "metadata": {}
        }, 
        {
            "source": "Our analysis shows that although there is a great number of restaurants in Toronto, there are pockets of low restaurant density fairly close to city center.We have 4 boroughs and 74 neighborhoods inside geograpical coordinate of **43.653963, -79.387207**.\n\nBased on our initial assumption of the cluster with maximum number of restaurants will have the best possibility to have a new restaurant due to the need in the area. Based on the resultant clusters it looks like Cluster 1  and  Cluster 5 have higher number of resturants then rest of the clusters. \n\nIt is entirely possible that there is a very good reason for small number of restaurants in any of those areas, reasons which would make them unsuitable for a new restaurant regardless of lack of competition in the area. Recommended zones should therefore be considered only as a starting point for more detailed analysis which could eventually result in location which has not only no nearby competition but also other factors taken into account and all other relevant conditions met.", 
            "cell_type": "markdown", 
            "metadata": {}
        }, 
        {
            "source": "## Conclusion <a name=\"conclusion\"></a>", 
            "cell_type": "markdown", 
            "metadata": {}
        }, 
        {
            "source": "Purpose of this project was to identify areas n Toronto with low number of restaurants in order to aid stakeholders in narrowing down the search for optimal location for a new restaurant. By calculating restaurant density distribution from Foursquare data we have first identified general boroughs that justify further analysis, and then generated extensive collection of locations which satisfy some basic requirements regarding existing nearby restaurants. Clustering of those locations was then performed in order to create major zones of interest (containing greatest number of potential locations) and addresses of those zone centers were created to be used as starting points for final exploration by stakeholders.\n\nFinal decission on optimal restaurant location will be made by stakeholders based on specific characteristics of neighborhoods and locations in every recommended zone, taking into consideration additional factors like attractiveness of each location (proximity to park or water), levels of noise / proximity to major roads, real estate availability, prices, social and economic dynamics of every neighborhood etc.", 
            "cell_type": "markdown", 
            "metadata": {}
        }
    ], 
    "metadata": {
        "kernelspec": {
            "display_name": "Python 3.6", 
            "name": "python3", 
            "language": "python"
        }, 
        "language_info": {
            "mimetype": "text/x-python", 
            "nbconvert_exporter": "python", 
            "version": "3.6.8", 
            "name": "python", 
            "file_extension": ".py", 
            "pygments_lexer": "ipython3", 
            "codemirror_mode": {
                "version": 3, 
                "name": "ipython"
            }
        }
    }, 
    "nbformat": 4
}